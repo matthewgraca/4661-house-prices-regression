{
 "cells": [
  {
   "cell_type": "code",
   "execution_count": 17,
   "id": "d088bdb0-ae50-486c-9e08-6f892f07359d",
   "metadata": {},
   "outputs": [
    {
     "name": "stdout",
     "output_type": "stream",
     "text": [
      "---- Linear Regression ----\n",
      "Linear Regression RMSE: 42777.562423587035\n",
      "Normalized RMSE: 23.64%\n",
      "\n",
      "Feature Importance based on Coefficient Magnitude (Linear Regression):\n",
      "       Feature  Coefficient Magnitude\n",
      "0    GrLivArea           41435.552830\n",
      "2    YearBuilt           25994.942500\n",
      "1  TotalBsmtSF           18433.148333\n",
      "3      LotArea            4873.010266\n"
     ]
    }
   ],
   "source": [
    "import pandas as pd\n",
    "import numpy as np\n",
    "from sklearn.model_selection import cross_val_score\n",
    "from sklearn.linear_model import LinearRegression\n",
    "from sklearn.preprocessing import StandardScaler\n",
    "from sklearn.pipeline import make_pipeline\n",
    "from sklearn.metrics import mean_squared_error\n",
    "\n",
    "df = pd.read_csv(\"https://raw.githubusercontent.com/matthewgraca/4661-house-prices-regression/refs/heads/main/data/train.csv\")\n",
    "\n",
    "\n",
    "y = df['SalePrice']\n",
    "\n",
    "\n",
    "X = df[['GrLivArea', 'TotalBsmtSF', 'YearBuilt', 'LotArea']]\n",
    "\n",
    "# ---- Linear Regression ----\n",
    "print(\"---- Linear Regression ----\")\n",
    "\n",
    "# Initialize Linear Regression model with a pipeline to standardize features\n",
    "linear_model = make_pipeline(StandardScaler(), LinearRegression())\n",
    "\n",
    "# Perform 10-fold Cross-Validation for RMSE and Normalized RMSE using built-in 'neg_root_mean_squared_error'\n",
    "linear_rmse_scores = cross_val_score(linear_model, X, y, cv=10, scoring='neg_root_mean_squared_error')\n",
    "linear_rmse = -linear_rmse_scores.mean()  # Convert to positive RMSE\n",
    "linear_nrmse = linear_rmse / y.mean()  # Normalized RMSE as percentage\n",
    "\n",
    "print(f\"Linear Regression RMSE: {linear_rmse}\")\n",
    "print(f\"Normalized RMSE: {linear_nrmse:.2%}\")\n",
    "\n",
    "# Fit the model to get the coefficients for feature importance\n",
    "linear_model.fit(X, y)\n",
    "linear_coefficients = linear_model.named_steps['linearregression'].coef_\n",
    "linear_feature_importance = pd.DataFrame({\n",
    "    'Feature': X.columns,\n",
    "    'Coefficient Magnitude': np.abs(linear_coefficients)  # Magnitude for feature importance\n",
    "}).sort_values(by='Coefficient Magnitude', ascending=False)\n",
    "\n",
    "print(\"\\nFeature Importance based on Coefficient Magnitude (Linear Regression):\")\n",
    "print(linear_feature_importance)\n"
   ]
  },
  {
   "cell_type": "code",
   "execution_count": null,
   "id": "230edfb7-f637-472f-92bb-fb38d8cf5ed3",
   "metadata": {},
   "outputs": [],
   "source": []
  },
  {
   "cell_type": "code",
   "execution_count": 18,
   "id": "b73024d4-b9d6-45ca-a78f-3e04df019780",
   "metadata": {},
   "outputs": [
    {
     "name": "stdout",
     "output_type": "stream",
     "text": [
      "\n",
      "---- Polynomial Regression ----\n",
      "Polynomial Regression (degree 2) RMSE: 44530.093998325254\n",
      "Normalized RMSE: 24.61%\n",
      "\n",
      "Feature Importance based on Coefficient Magnitude (Polynomial Regression):\n",
      "                  Feature  Coefficient Magnitude\n",
      "10  TotalBsmtSF YearBuilt          123883.293969\n",
      "2             TotalBsmtSF           85980.729779\n",
      "7     GrLivArea YearBuilt           85087.386106\n",
      "1               GrLivArea           66813.024254\n",
      "12            YearBuilt^2           52957.977166\n",
      "13      YearBuilt LotArea           48436.184343\n",
      "11    TotalBsmtSF LotArea           42175.180680\n",
      "5             GrLivArea^2           36563.471756\n",
      "3               YearBuilt           35911.154148\n",
      "8       GrLivArea LotArea           28770.744816\n"
     ]
    }
   ],
   "source": [
    "import pandas as pd\n",
    "import numpy as np\n",
    "from sklearn.model_selection import cross_val_score\n",
    "from sklearn.linear_model import Ridge\n",
    "from sklearn.preprocessing import PolynomialFeatures, StandardScaler\n",
    "from sklearn.pipeline import make_pipeline\n",
    "from sklearn.metrics import mean_squared_error\n",
    "\n",
    "\n",
    "df = pd.read_csv(\"https://raw.githubusercontent.com/matthewgraca/4661-house-prices-regression/refs/heads/main/data/train.csv\")\n",
    "\n",
    "\n",
    "y = df['SalePrice']\n",
    "\n",
    "\n",
    "X = df[['GrLivArea', 'TotalBsmtSF', 'YearBuilt', 'LotArea']]\n",
    "\n",
    "# ---- Polynomial Regression ----\n",
    "print(\"\\n---- Polynomial Regression ----\")\n",
    "\n",
    "degree = 2\n",
    "\n",
    "\n",
    "poly_model = make_pipeline(PolynomialFeatures(degree), StandardScaler(), Ridge(alpha=1.0))\n",
    "\n",
    "# Perform 10-fold Cross-Validation for RMSE and Normalized RMSE using built-in 'neg_root_mean_squared_error'\n",
    "poly_rmse_scores = cross_val_score(poly_model, X, y, cv=10, scoring='neg_root_mean_squared_error')\n",
    "poly_rmse = -poly_rmse_scores.mean()  # Convert to positive RMSE\n",
    "poly_nrmse = poly_rmse / y.mean()  # Normalized RMSE as percentage\n",
    "\n",
    "print(f\"Polynomial Regression (degree {degree}) RMSE: {poly_rmse}\")\n",
    "print(f\"Normalized RMSE: {poly_nrmse:.2%}\")\n",
    "\n",
    "\n",
    "poly_model.fit(X, y)\n",
    "poly_coefficients = poly_model.named_steps['ridge'].coef_\n",
    "poly_feature_names = poly_model.named_steps['polynomialfeatures'].get_feature_names_out(X.columns)\n",
    "\n",
    "\n",
    "poly_feature_importance = pd.DataFrame({\n",
    "    'Feature': poly_feature_names,\n",
    "    'Coefficient Magnitude': np.abs(poly_coefficients)\n",
    "}).sort_values(by='Coefficient Magnitude', ascending=False)\n",
    "\n",
    "print(\"\\nFeature Importance based on Coefficient Magnitude (Polynomial Regression):\")\n",
    "print(poly_feature_importance.head(10))\n"
   ]
  },
  {
   "cell_type": "code",
   "execution_count": null,
   "id": "98076be9-5f7a-4b83-885e-5632a521912a",
   "metadata": {},
   "outputs": [],
   "source": []
  }
 ],
 "metadata": {
  "kernelspec": {
   "display_name": "Python 3 (ipykernel)",
   "language": "python",
   "name": "python3"
  },
  "language_info": {
   "codemirror_mode": {
    "name": "ipython",
    "version": 3
   },
   "file_extension": ".py",
   "mimetype": "text/x-python",
   "name": "python",
   "nbconvert_exporter": "python",
   "pygments_lexer": "ipython3",
   "version": "3.12.4"
  }
 },
 "nbformat": 4,
 "nbformat_minor": 5
}
